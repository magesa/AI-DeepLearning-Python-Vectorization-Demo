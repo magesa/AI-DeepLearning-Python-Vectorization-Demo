import time

a = np.random.rand(1000000)
b = np.random.rand(1000000)

tic = time.time()
c = np.dot(a,b)
toc = time.time()

print(c)
print("Vectorized Version:" + str(1000*(toc-tic)) + "ms")

c = 0
tic = time.time()
for i in range(1000000):
    c += a[i]*b[i]
toc = time.time()

print(c)
print("For Loop:" + str(1000*(toc-tic)) +"ms")



# Result 249728.62963192933
#Vectorized Version:1.0ms

#Result 249728.62963193803
#For Loop:1735.14986038208ms

#An executionn time difference of 1,735 times in favor of using Vectors
